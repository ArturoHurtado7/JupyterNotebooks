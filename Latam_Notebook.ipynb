{
 "cells": [
  {
   "cell_type": "markdown",
   "metadata": {},
   "source": [
    "# Web Driver Scraper "
   ]
  },
  {
   "cell_type": "markdown",
   "metadata": {},
   "source": [
    "Proyect Imports"
   ]
  },
  {
   "cell_type": "code",
   "execution_count": 266,
   "metadata": {},
   "outputs": [],
   "source": [
    "from selenium import webdriver\n",
    "import time"
   ]
  },
  {
   "cell_type": "markdown",
   "metadata": {},
   "source": [
    "Create an instance of Chrome"
   ]
  },
  {
   "cell_type": "code",
   "execution_count": 194,
   "metadata": {},
   "outputs": [],
   "source": [
    "#Instance in incognito mode\n",
    "options = webdriver.ChromeOptions()\n",
    "options.add_argument(\"start-maximized\")\n",
    "options.add_argument('--incognito')\n",
    "options.add_experimental_option(\"excludeSwitches\", [\"enable-automation\"])\n",
    "options.add_experimental_option('useAutomationExtension', False)\n",
    "driver = webdriver.Chrome(executable_path='./chromedriver/chromedriver.exe', options=options)"
   ]
  },
  {
   "cell_type": "code",
   "execution_count": 2,
   "metadata": {},
   "outputs": [],
   "source": [
    "#Instance in normal mode\n",
    "#driver = webdriver.Chrome(executable_path='./chromedriver/chromedriver.exe')"
   ]
  },
  {
   "cell_type": "markdown",
   "metadata": {},
   "source": [
    "Pass the url to the chrome driver browse"
   ]
  },
  {
   "cell_type": "code",
   "execution_count": 15,
   "metadata": {},
   "outputs": [],
   "source": [
    "#Flight form https://www.latam.com\n",
    "\n",
    "page_path = 'https://www.latam.com/en_un/apps/personas/booking?fecha1_dia=07&fecha1_anomes=2021-02&from_city1=LIM&to_city1=MIA&ida_vuelta=ida_vuelta&fecha2_dia=18&fecha2_anomes=2021-02&from_city2=MIA&to_city2=LIM&cabina=Y&nadults=1&nchildren=0&ninfants=0&app=deal-finder#/'"
   ]
  },
  {
   "cell_type": "code",
   "execution_count": 173,
   "metadata": {},
   "outputs": [],
   "source": [
    "driver.get(page_path)"
   ]
  },
  {
   "cell_type": "markdown",
   "metadata": {},
   "source": [
    "Closes pop-up"
   ]
  },
  {
   "cell_type": "code",
   "execution_count": 174,
   "metadata": {},
   "outputs": [],
   "source": [
    "driver.find_element_by_xpath('//button[@class=\"align-right secondary slidedown-button\"]').click()"
   ]
  },
  {
   "cell_type": "markdown",
   "metadata": {},
   "source": [
    "Extract info from the page"
   ]
  },
  {
   "cell_type": "code",
   "execution_count": 24,
   "metadata": {},
   "outputs": [],
   "source": [
    "flights = driver.find_elements_by_xpath('//li[@class=\"flight\"]')"
   ]
  },
  {
   "cell_type": "code",
   "execution_count": 25,
   "metadata": {},
   "outputs": [
    {
     "data": {
      "text/plain": [
       "9"
      ]
     },
     "execution_count": 25,
     "metadata": {},
     "output_type": "execute_result"
    }
   ],
   "source": [
    "#Display all the flights\n",
    "len(flights)"
   ]
  },
  {
   "cell_type": "code",
   "execution_count": 26,
   "metadata": {},
   "outputs": [
    {
     "data": {
      "text/plain": [
       "<selenium.webdriver.remote.webelement.WebElement (session=\"e9f01b1485f54606172bccfcec1cd3bf\", element=\"d1afb24d-985a-4f15-8198-4b5b502c1dd9\")>"
      ]
     },
     "execution_count": 26,
     "metadata": {},
     "output_type": "execute_result"
    }
   ],
   "source": [
    "# Select the second flight\n",
    "flight = flights[2]\n",
    "flight"
   ]
  },
  {
   "cell_type": "code",
   "execution_count": 27,
   "metadata": {},
   "outputs": [
    {
     "data": {
      "text/plain": [
       "'09:15'"
      ]
     },
     "execution_count": 27,
     "metadata": {},
     "output_type": "execute_result"
    }
   ],
   "source": [
    "departure = flight.find_element_by_xpath('.//div[@class=\"departure\"]/time').get_attribute('datetime')\n",
    "departure"
   ]
  },
  {
   "cell_type": "code",
   "execution_count": 28,
   "metadata": {},
   "outputs": [
    {
     "data": {
      "text/plain": [
       "'05:35'"
      ]
     },
     "execution_count": 28,
     "metadata": {},
     "output_type": "execute_result"
    }
   ],
   "source": [
    "arrival = flight.find_element_by_xpath('.//div[@class=\"arrival\"]/time').get_attribute('datetime')\n",
    "arrival"
   ]
  },
  {
   "cell_type": "code",
   "execution_count": 29,
   "metadata": {},
   "outputs": [
    {
     "data": {
      "text/plain": [
       "'PT20H20M'"
      ]
     },
     "execution_count": 29,
     "metadata": {},
     "output_type": "execute_result"
    }
   ],
   "source": [
    "duration = flight.find_element_by_xpath('.//span[@class=\"duration\"]/time').get_attribute('datetime')\n",
    "duration"
   ]
  },
  {
   "cell_type": "code",
   "execution_count": 30,
   "metadata": {},
   "outputs": [],
   "source": [
    "stop_button = flight.find_element_by_xpath('.//div[@class=\"flight-summary-stops-description\"]/button')\n",
    "stop_button.click()"
   ]
  },
  {
   "cell_type": "code",
   "execution_count": 32,
   "metadata": {},
   "outputs": [
    {
     "data": {
      "text/plain": [
       "<selenium.webdriver.remote.webelement.WebElement (session=\"e9f01b1485f54606172bccfcec1cd3bf\", element=\"dc456599-c823-4d3b-8bb8-99f3b5e3c07a\")>"
      ]
     },
     "execution_count": 32,
     "metadata": {},
     "output_type": "execute_result"
    }
   ],
   "source": [
    "flight_stops = driver.find_element_by_class_name('modal-body')\n",
    "flight_stops"
   ]
  },
  {
   "cell_type": "code",
   "execution_count": 33,
   "metadata": {
    "scrolled": true
   },
   "outputs": [
    {
     "data": {
      "text/plain": [
       "[<selenium.webdriver.remote.webelement.WebElement (session=\"e9f01b1485f54606172bccfcec1cd3bf\", element=\"4b94d33e-6dd0-4c3c-9e03-75b87d88d20f\")>,\n",
       " <selenium.webdriver.remote.webelement.WebElement (session=\"e9f01b1485f54606172bccfcec1cd3bf\", element=\"fcbc7a30-b098-44fc-851d-b7b85cf101dd\")>,\n",
       " <selenium.webdriver.remote.webelement.WebElement (session=\"e9f01b1485f54606172bccfcec1cd3bf\", element=\"d3e60b5b-307d-49a6-922d-d57db9dec64c\")>,\n",
       " <selenium.webdriver.remote.webelement.WebElement (session=\"e9f01b1485f54606172bccfcec1cd3bf\", element=\"38ac29c4-67d0-4ce8-ae65-8ac7532041e4\")>]"
      ]
     },
     "execution_count": 33,
     "metadata": {},
     "output_type": "execute_result"
    }
   ],
   "source": [
    "flight_scales = flight_stops.find_elements_by_class_name('sc-bsbRJL')\n",
    "flight_scales"
   ]
  },
  {
   "cell_type": "code",
   "execution_count": 60,
   "metadata": {
    "scrolled": false
   },
   "outputs": [
    {
     "name": "stdout",
     "output_type": "stream",
     "text": [
      "J Chavez Intl.\n",
      "Orlando International Airport\n",
      "Orlando International Airport\n",
      "WEST B HARTSFIELD\n",
      "WEST B HARTSFIELD\n",
      "Miami Intl.\n"
     ]
    }
   ],
   "source": [
    "flight_airports = []\n",
    "[flight_airports.append(fs.find_element_by_class_name('sc-hXRMBi')) for fs in flight_scales]\n",
    "for fa in flight_airports:\n",
    "    print(fa.text)"
   ]
  },
  {
   "cell_type": "code",
   "execution_count": 46,
   "metadata": {},
   "outputs": [
    {
     "name": "stdout",
     "output_type": "stream",
     "text": [
      "[{'city': 'LIM', 'hour': '09:15', 'airp': 'J Chavez Intl.'}, {'city': 'SCL', 'hour': '14:45', 'airp': 'A. Merino Benitez Intl.'}, {'city': 'SCL', 'hour': '23:10', 'airp': 'A. Merino Benitez Intl.'}, {'city': 'MIA', 'hour': '05:35+1', 'airp': 'Miami Intl.'}]\n"
     ]
    }
   ],
   "source": [
    "flight_infos = []\n",
    "for fs in flight_scales:\n",
    "    flight_info = {}\n",
    "    \n",
    "    stop = fs.find_element_by_xpath('.//span[@class=\"sc-eTuwsz eumCTU\"]')\n",
    "    \n",
    "    city = stop.find_element_by_xpath('.//abbr').text\n",
    "    if city:\n",
    "        flight_info['city'] = city\n",
    "    else:\n",
    "        flight_info['city'] = None\n",
    "    \n",
    "    hour = stop.find_element_by_xpath('.//time').text\n",
    "    if hour:\n",
    "        flight_info['hour'] = hour\n",
    "    else:\n",
    "        flight_info['hour'] = None\n",
    "        \n",
    "    airp = stop.find_element_by_xpath('.//span[@class=\"sc-hXRMBi gVvErD\"]').text\n",
    "    if airp:\n",
    "        flight_info['airp'] = airp\n",
    "    else:\n",
    "        flight_info['airp'] = None\n",
    "        \n",
    "    flight_infos.append(flight_info)\n",
    "print(flight_infos)\n",
    "        "
   ]
  },
  {
   "cell_type": "code",
   "execution_count": 66,
   "metadata": {},
   "outputs": [
    {
     "name": "stdout",
     "output_type": "stream",
     "text": [
      "[{'parada_1': {'city': 'LIM', 'time': '09:15', 'airp': 'J Chavez Intl.'}, 'parada_2': {'city': 'SCL', 'time': '14:45', 'airp': 'A. Merino Benitez Intl.'}, 'duration': '3:30', 'flight': 'LA2377', 'plain': 'Boeing 787-9', 'operated': 'Operated by LATAM Perú'}, {'parada_1': {'city': 'SCL', 'time': '23:10', 'airp': 'A. Merino Benitez Intl.'}, 'parada_2': {'city': 'MIA', 'time': '05:35', 'airp': 'Miami Intl.'}, 'duration': '8:25', 'flight': 'LA500', 'plain': 'Boeing 787-9', 'operated': 'Operated by LATAM Airlines'}, {'change_location': 'Connection at Santiago de Chile', 'change_type': '(change of aircraft)', 'change_time': '8:25', 'change_kind': 'Long stopover'}]\n"
     ]
    }
   ],
   "source": [
    "info_tramos = []\n",
    "tramos = driver.find_elements_by_xpath('//div[@class=\"sc-cLQEGU hyoued\"]')\n",
    "for tramo in tramos:\n",
    "    info_tramo = {}\n",
    "    paradas = tramo.find_elements_by_xpath('.//span[@class=\"sc-eTuwsz eumCTU\"]')\n",
    "    \n",
    "    i = 1\n",
    "    for parada in paradas:\n",
    "        info_paradas = {}\n",
    "        out_city = parada.find_element_by_xpath('.//abbr').text\n",
    "        if out_city:\n",
    "            info_paradas['city'] = out_city\n",
    "        else:\n",
    "            info_paradas['city'] = None\n",
    "        out_time = parada.find_element_by_xpath('.//time').get_attribute('datetime')\n",
    "        if out_time:\n",
    "            info_paradas['time'] = out_time\n",
    "        else:\n",
    "            info_paradas['time'] = None\n",
    "        out_airp = parada.find_element_by_xpath('.//span[@class=\"sc-hXRMBi gVvErD\"]').text\n",
    "        if out_airp:\n",
    "            info_paradas['airp'] = out_airp\n",
    "        else:\n",
    "            info_paradas['airp'] = None\n",
    "        info_tramo['parada_'+str(i)] = info_paradas\n",
    "        i += 1\n",
    "    \n",
    "    duration = tramo.find_element_by_xpath('.//div[@class=\"sc-bMVAic hShZwU\"]//time').get_attribute('datetime')\n",
    "    if duration:\n",
    "        info_tramo['duration'] = duration\n",
    "    else:\n",
    "        info_tramo['duration'] = None\n",
    "    \n",
    "    divition = tramo.find_element_by_xpath('.//div[@class=\"sc-hMFtBS bGZqFm\"]')\n",
    "    \n",
    "    flight = divition.find_element_by_xpath('.//b').text\n",
    "    if flight:\n",
    "        info_tramo['flight'] = flight\n",
    "    else:\n",
    "        info_tramo['flight'] = None\n",
    "        \n",
    "    plain = divition.find_element_by_xpath('.//span[@class=\"sc-gzOgki uTyOl\"]').text\n",
    "    if plain:\n",
    "        info_tramo['plain'] = plain\n",
    "    else:\n",
    "        info_tramo['plain'] = None\n",
    "        \n",
    "    operated = divition.find_element_by_xpath('.//span[@class=\"sc-kfGgVZ lccoDs\"]').text\n",
    "    if operated:\n",
    "        info_tramo['operated'] = operated\n",
    "    else:\n",
    "        info_tramo['operated'] = None\n",
    "        \n",
    "    info_tramos.append(info_tramo)\n",
    "\n",
    "info_inter = {}\n",
    "for i in range(len(tramos) - 1):\n",
    "    inter = driver.find_element_by_xpath('//div[@class=\"sc-cLQEGU dnKRNG\"]//div[@class=\"sc-hMFtBS cfwWiO\"]')\n",
    "    \n",
    "    change_location = inter.find_element_by_xpath('.//span[@class=\"connection-label sc-hORach NXcGo\"]').text\n",
    "    if change_location:\n",
    "        info_inter['change_location'] = change_location\n",
    "    else:\n",
    "        info_inter['change_location'] = None\n",
    "    \n",
    "    change_type = inter.find_element_by_xpath('.//span[@class=\"connection-changes sc-hORach NXcGo\"]').text\n",
    "    if change_type:\n",
    "        info_inter['change_type'] = change_type\n",
    "    else:\n",
    "        info_inter['change_type'] = None\n",
    "        \n",
    "    change_time = inter.find_element_by_xpath('.//time').get_attribute('datetime')\n",
    "    if change_time:\n",
    "        info_inter['change_time'] = change_time\n",
    "    else:\n",
    "        info_inter['change_time'] = None\n",
    "        \n",
    "    change_kind = inter.find_element_by_xpath('.//strong[@class=\"sc-epnACN gCYixI\"]').text\n",
    "    if change_kind:\n",
    "        info_inter['change_kind'] = change_kind\n",
    "    else:\n",
    "        info_inter['change_kind'] = None\n",
    "        \n",
    "    info_tramos.append(info_inter)\n",
    "    \n",
    "print(info_tramos)"
   ]
  },
  {
   "cell_type": "code",
   "execution_count": 87,
   "metadata": {},
   "outputs": [],
   "source": [
    "#close button\n",
    "close_button = driver.find_element_by_xpath('//div[@class=\"modal-header sc-dnqmqq cGfTsx\"]/button[@class=\"close\"]')\n",
    "close_button.click()"
   ]
  },
  {
   "cell_type": "code",
   "execution_count": 163,
   "metadata": {},
   "outputs": [],
   "source": [
    "flights = driver.find_elements_by_xpath('//li[@class=\"flight\"]')\n",
    "flights[1].click()\n",
    "#fl = flights[2]\n",
    "#fl.click()"
   ]
  },
  {
   "cell_type": "code",
   "execution_count": 242,
   "metadata": {
    "scrolled": false
   },
   "outputs": [
    {
     "name": "stdout",
     "output_type": "stream",
     "text": [
      "<selenium.webdriver.remote.webelement.WebElement (session=\"6d172f00d56f2d46162919f2f2fc195f\", element=\"6d363810-9704-48af-aab0-9621482d8b26\")>\n",
      "<selenium.webdriver.remote.webelement.WebElement (session=\"6d172f00d56f2d46162919f2f2fc195f\", element=\"9c08dc03-201d-4162-9518-5676a91e97ad\")>\n",
      "<selenium.webdriver.remote.webelement.WebElement (session=\"6d172f00d56f2d46162919f2f2fc195f\", element=\"4c1726b0-fe04-4c9d-bf87-b9fa767a474f\")>\n",
      "<selenium.webdriver.remote.webelement.WebElement (session=\"6d172f00d56f2d46162919f2f2fc195f\", element=\"4ebe9dd1-7705-4dae-9e73-cf7df5ef02ef\")>\n",
      "<selenium.webdriver.remote.webelement.WebElement (session=\"6d172f00d56f2d46162919f2f2fc195f\", element=\"23233b98-cdfe-4d06-9021-b0da0c1181db\")>\n",
      "<selenium.webdriver.remote.webelement.WebElement (session=\"6d172f00d56f2d46162919f2f2fc195f\", element=\"4ea67a95-f16c-4660-80f1-067197df4117\")>\n",
      "<selenium.webdriver.remote.webelement.WebElement (session=\"6d172f00d56f2d46162919f2f2fc195f\", element=\"2423bf74-dd39-4926-93db-00a2f8840f5c\")>\n",
      "<selenium.webdriver.remote.webelement.WebElement (session=\"6d172f00d56f2d46162919f2f2fc195f\", element=\"b4c31457-b5ef-49aa-9c41-b2df5e56cf60\")>\n",
      "[[{'type': 'PLUS', 'symbol': '', 'value': ''}, {'type': 'TOP', 'symbol': '', 'value': ''}], [{'type': 'PLUS', 'symbol': 'US$', 'value': '539'}, {'type': 'TOP', 'symbol': 'US$', 'value': '626'}, {'type': 'TOP', 'symbol': 'US$', 'value': '3,184'}], [{'type': 'PLUS', 'symbol': '', 'value': ''}, {'type': 'TOP', 'symbol': '', 'value': ''}], [{'type': 'LIGHT', 'symbol': '', 'value': ''}, {'type': 'PLUS', 'symbol': '', 'value': ''}, {'type': 'TOP', 'symbol': '', 'value': ''}], [{'type': 'LIGHT', 'symbol': '', 'value': ''}, {'type': 'PLUS', 'symbol': '', 'value': ''}, {'type': 'TOP', 'symbol': '', 'value': ''}], [{'type': 'LIGHT', 'symbol': '', 'value': ''}, {'type': 'PLUS', 'symbol': '', 'value': ''}, {'type': 'TOP', 'symbol': '', 'value': ''}], [{'type': 'LIGHT', 'symbol': '', 'value': ''}, {'type': 'PLUS', 'symbol': '', 'value': ''}, {'type': 'TOP', 'symbol': '', 'value': ''}], [{'type': 'LIGHT', 'symbol': '', 'value': ''}, {'type': 'PLUS', 'symbol': '', 'value': ''}, {'type': 'TOP', 'symbol': '', 'value': ''}]]\n",
      "45.395222902297974\n"
     ]
    }
   ],
   "source": [
    "#fares\n",
    "t1 = time.time()\n",
    "fares_lists = []\n",
    "delay = 5\n",
    "flights = driver.find_elements_by_xpath('//li[@class=\"flight\"]')\n",
    "for fly in flights:\n",
    "    fares_list = []\n",
    "    print(fly)\n",
    "    fly.click()\n",
    "    ReactCollapse = fly.find_element_by_xpath('.//div[@class=\"ReactCollapse--content\"]')\n",
    "    if ReactCollapse:\n",
    "        cabins = ReactCollapse.find_elements_by_xpath('.//ul[@class=\"cabin-selector\"]/li')\n",
    "        if cabins:\n",
    "            for cabin in cabins:\n",
    "                cabin.find_element_by_xpath('.//button').click()\n",
    "                fares = ReactCollapse.find_elements_by_xpath('.//tfoot//td[contains(@class,\"fare-\")]')\n",
    "                for fare in fares:\n",
    "                    temp = {}\n",
    "                    types = fare.find_element_by_xpath('.//label').get_attribute('for')\n",
    "                    if types:\n",
    "                        temp['type'] = types\n",
    "                    else:\n",
    "                        temp['type'] = None\n",
    "\n",
    "                    price = fare.find_element_by_xpath('.//span[@class=\"price\"]')\n",
    "\n",
    "                    if price:\n",
    "                        symbol = price.find_element_by_xpath('.//span[@class=\"currency-symbol\"]')\n",
    "                        if symbol:\n",
    "                            temp['symbol'] = symbol.text\n",
    "                        else:\n",
    "                            temp['symbol'] = None\n",
    "\n",
    "                        value = price.find_element_by_xpath('.//span[@class=\"value\"]/span')\n",
    "                        if value:\n",
    "                            temp['value'] = value.text\n",
    "                        else:\n",
    "                            temp['value'] = None\n",
    "                    else:\n",
    "                        temp['symbol'] = None\n",
    "                        temp['value'] = None\n",
    "                    fares_list.append(temp)\n",
    "        else:\n",
    "            fares = ReactCollapse.find_elements_by_xpath('.//tfoot//td[contains(@class,\"fare-\")]')\n",
    "            for fare in fares:\n",
    "                temp = {}\n",
    "                types = fare.find_element_by_xpath('.//label').get_attribute('for')\n",
    "                if types:\n",
    "                    temp['type'] = types\n",
    "                else:\n",
    "                    temp['type'] = None\n",
    "\n",
    "                price = fare.find_element_by_xpath('.//span[@class=\"price\"]')\n",
    "\n",
    "                if price:\n",
    "                    symbol = price.find_element_by_xpath('.//span[@class=\"currency-symbol\"]')\n",
    "                    if symbol:\n",
    "                        temp['symbol'] = symbol.text\n",
    "                    else:\n",
    "                        temp['symbol'] = None\n",
    "\n",
    "                    value = price.find_element_by_xpath('.//span[@class=\"value\"]/span')\n",
    "                    if value:\n",
    "                        temp['value'] = value.text\n",
    "                    else:\n",
    "                        temp['value'] = None\n",
    "                else:\n",
    "                    temp['symbol'] = None\n",
    "                    temp['value'] = None\n",
    "\n",
    "                fares_list.append(temp)\n",
    "    fares_lists.append(fares_list)\n",
    "    time.sleep(delay)\n",
    "t2 = time.time()\n",
    "print(fares_lists)\n",
    "t3 = t2 - t1\n",
    "print(t3)"
   ]
  },
  {
   "cell_type": "code",
   "execution_count": null,
   "metadata": {},
   "outputs": [],
   "source": []
  },
  {
   "cell_type": "code",
   "execution_count": null,
   "metadata": {},
   "outputs": [],
   "source": []
  },
  {
   "cell_type": "code",
   "execution_count": null,
   "metadata": {},
   "outputs": [],
   "source": []
  },
  {
   "cell_type": "code",
   "execution_count": null,
   "metadata": {},
   "outputs": [],
   "source": []
  },
  {
   "cell_type": "code",
   "execution_count": null,
   "metadata": {},
   "outputs": [],
   "source": []
  },
  {
   "cell_type": "code",
   "execution_count": null,
   "metadata": {},
   "outputs": [],
   "source": []
  },
  {
   "cell_type": "markdown",
   "metadata": {},
   "source": [
    "# construir Scraper\n",
    "\n",
    "\n",
    "### Construir funciones"
   ]
  },
  {
   "cell_type": "code",
   "execution_count": 416,
   "metadata": {},
   "outputs": [],
   "source": [
    "from selenium import webdriver\n",
    "from selenium.webdriver.support.ui import WebDriverWait\n",
    "from selenium.webdriver.support import expected_conditions as ExConditions\n",
    "from selenium.webdriver.common.by import By\n",
    "from selenium.common.exceptions import TimeoutException\n",
    "import time\n",
    "import sys"
   ]
  },
  {
   "cell_type": "code",
   "execution_count": 329,
   "metadata": {},
   "outputs": [],
   "source": [
    "def ext_fare(fare, cabin_category=''):\n",
    "    \"\"\"Extract fare info\n",
    "    Arguments:\n",
    "        webelement fare: it provides the fare element\n",
    "        string cabin_category: (optional) it provides the cabin categoty\n",
    "    Return:\n",
    "        dict nameless: return the fare info\"\"\"\n",
    "    \n",
    "    typ = fare.find_element_by_xpath('.//label').get_attribute('for') + (' ' + cabin_category if cabin_category != '' else '')\n",
    "    symbol = fare.find_element_by_xpath('.//span[@class=\"price\"]//span[@class=\"currency-symbol\"]')\n",
    "    value = fare.find_element_by_xpath('.//span[@class=\"price\"]//span[@class=\"value\"]/span')\n",
    "    \n",
    "    return {typ:{'symbol':symbol.text,'value':value.text}}"
   ]
  },
  {
   "cell_type": "code",
   "execution_count": 395,
   "metadata": {},
   "outputs": [],
   "source": [
    "def get_fares(flight):\n",
    "    \"\"\"get_fares: Extract all fares info\n",
    "    Arguments:\n",
    "        webelement flight: it provides the flight element\n",
    "    Return:\n",
    "        list fares_list: return all flight fares\"\"\"\n",
    "    \n",
    "    fares_list = []\n",
    "    ReactCollapse = flight.find_element_by_xpath('.//div[@class=\"ReactCollapse--content\"]')\n",
    "    \n",
    "    if ReactCollapse:\n",
    "        cabins = ReactCollapse.find_elements_by_xpath('.//ul[@class=\"cabin-selector\"]/li')\n",
    "        if cabins:\n",
    "            for cabin in cabins:\n",
    "                cabin_category = cabin.find_element_by_xpath('.//button/span').text\n",
    "                cabin.find_element_by_xpath('.//button').click()\n",
    "                fares = ReactCollapse.find_elements_by_xpath('.//tfoot//td[contains(@class,\"fare-\")]')\n",
    "                \n",
    "                for fare in fares:\n",
    "                    fares_list.append(ext_fare(fare, cabin_category))\n",
    "        else:\n",
    "            fares = ReactCollapse.find_elements_by_xpath('.//tfoot//td[contains(@class,\"fare-\")]')\n",
    "            for fare in fares:\n",
    "                fares_list.append(ext_fare(fare))\n",
    "                \n",
    "    return fares_list"
   ]
  },
  {
   "cell_type": "code",
   "execution_count": 381,
   "metadata": {},
   "outputs": [],
   "source": [
    "def get_time(flight):\n",
    "    \"\"\"get_time: time information\n",
    "    Arguments:\n",
    "        webelement flight: it provides the flight\n",
    "    Return:\n",
    "        dict nameless: return dict with time info\"\"\"\n",
    "    \n",
    "    departure = flight.find_element_by_xpath('.//div[@class=\"departure\"]/time').get_attribute('datetime')\n",
    "    arrival = flight.find_element_by_xpath('.//div[@class=\"arrival\"]/time').get_attribute('datetime')\n",
    "    duration = flight.find_element_by_xpath('.//span[@class=\"duration\"]/time').get_attribute('datetime')\n",
    "    \n",
    "    return {'departure':departure, 'arrival':arrival, 'duration':duration}"
   ]
  },
  {
   "cell_type": "code",
   "execution_count": 382,
   "metadata": {},
   "outputs": [],
   "source": [
    "def get_stop(driver):\n",
    "    \"\"\"get_stop: \n",
    "    Arguments:\n",
    "        webdriver driver: webdriver instance\n",
    "    Return:\n",
    "        dict nameless: return stops info\"\"\"\n",
    "    \n",
    "    info_tramos = []\n",
    "    tramos = driver.find_elements_by_xpath('//div[@class=\"sc-cLQEGU hyoued\"]')\n",
    "    for tramo in tramos:\n",
    "        info_tramo = {}\n",
    "        paradas = tramo.find_elements_by_xpath('.//span[@class=\"sc-eTuwsz eumCTU\"]')\n",
    "        i = 1\n",
    "        for parada in paradas:\n",
    "            out_city = parada.find_element_by_xpath('.//abbr').text\n",
    "            out_time = parada.find_element_by_xpath('.//time').get_attribute('datetime')\n",
    "            out_airp = parada.find_element_by_xpath('.//span[@class=\"sc-hXRMBi gVvErD\"]').text\n",
    "            \n",
    "            info_tramo['tramo_'+str(i)] = {'out_city': out_city, 'out_time': out_time, 'out_airp': out_airp}\n",
    "            i += 1\n",
    "\n",
    "        duration = tramo.find_element_by_xpath('.//div[@class=\"sc-bMVAic hShZwU\"]//time').get_attribute('datetime')\n",
    "        flight = tramo.find_element_by_xpath('.//div[@class=\"sc-hMFtBS bGZqFm\"]//b').text\n",
    "        plain = tramo.find_element_by_xpath('.//div[@class=\"sc-hMFtBS bGZqFm\"]//span[@class=\"sc-gzOgki uTyOl\"]').text\n",
    "        operated = tramo.find_element_by_xpath('.//div[@class=\"sc-hMFtBS bGZqFm\"]//span[@class=\"sc-kfGgVZ lccoDs\"]').text\n",
    "\n",
    "        info_tramos.append({'info': info_tramo, 'duration': duration, 'flight': flight, 'plain': plain, 'operated': operated})\n",
    "\n",
    "    info_inter = []\n",
    "    inters = driver.find_elements_by_xpath('//div[@class=\"sc-cLQEGU dnKRNG\"]//div[@class=\"sc-hMFtBS cfwWiO\"]')\n",
    "    for inter in inters:\n",
    "        change_location = inter.find_element_by_xpath('.//span[@class=\"connection-label sc-hORach NXcGo\"]').text\n",
    "        change_type = inter.find_element_by_xpath('.//span[@class=\"connection-changes sc-hORach NXcGo\"]').text\n",
    "        change_time = inter.find_element_by_xpath('.//time').get_attribute('datetime')\n",
    "        try:\n",
    "            change_kind = inter.find_element_by_xpath('.//strong[@class=\"sc-epnACN gCYixI\"]').text\n",
    "        except:\n",
    "            change_kind = None\n",
    "        \n",
    "        info_inter.append({'change_location': change_location, 'change_type': change_type, 'change_time': change_time, 'change_kind': change_kind})\n",
    "        \n",
    "    return {'tramos': info_tramos, 'intercambios': info_inter}"
   ]
  },
  {
   "cell_type": "code",
   "execution_count": 332,
   "metadata": {},
   "outputs": [],
   "source": [
    "def get_driver(page_path):\n",
    "    \"\"\"get_driver: create the webdriver instance\n",
    "    Arguments:\n",
    "        string page_path: it provides the webpage string\n",
    "    Return:\n",
    "        webdriver driver: return webdriver instance\"\"\"\n",
    "    \n",
    "    options = webdriver.ChromeOptions()\n",
    "    options.add_argument(\"start-maximized\")\n",
    "    options.add_argument('--incognito')\n",
    "    options.add_experimental_option(\"excludeSwitches\", [\"enable-automation\"])\n",
    "    options.add_experimental_option('useAutomationExtension', False)\n",
    "    \n",
    "    driver = webdriver.Chrome(executable_path='./chromedriver/chromedriver.exe', options=options)\n",
    "    driver.get(page_path)\n",
    "    \n",
    "    return driver"
   ]
  },
  {
   "cell_type": "code",
   "execution_count": 434,
   "metadata": {},
   "outputs": [],
   "source": [
    "def obtener_info(driver):\n",
    "    print('comienza el scraping...')\n",
    "\n",
    "    #get flights\n",
    "    flights = driver.find_elements_by_xpath('//li[@class=\"flight\"]')\n",
    "\n",
    "    print(f'esisten {len(flights)} vuelos en la pagina')\n",
    "\n",
    "    fly_list = []\n",
    "    for fly in flights:\n",
    "        fly_id = fly.find_element_by_xpath('.//div[@class=\"flight-container\"]').get_attribute('id')\n",
    "        print('flight: ',fly_id)\n",
    "        \n",
    "        time_info = get_time(fly)\n",
    "        fly.find_element_by_xpath('.//div[@class=\"flight-summary-stops-description\"]/button').click()\n",
    "        stop_info = get_stop(driver)\n",
    "        driver.find_element_by_xpath('//div[@class=\"modal-header sc-dnqmqq cGfTsx\"]/button[@class=\"close\"]').click()\n",
    "        fly.click()\n",
    "        WebDriverWait(driver, delay).until(ExConditions.presence_of_element_located((By.XPATH, '//div[@class=\"ReactCollapse--content\"]')))\n",
    "        fares_info = get_fares(fly)\n",
    "        fly.find_element_by_xpath('.//div[@class=\"summary-container\"]').click()\n",
    "        fly_list.append({fly_id:{'time_info': time_info, 'fares_info': fares_info, 'stop_info': stop_info}})\n",
    "    driver.close()\n",
    "    return fly_list"
   ]
  },
  {
   "cell_type": "code",
   "execution_count": 431,
   "metadata": {},
   "outputs": [],
   "source": [
    "def page_load():\n",
    "    page_path = 'https://www.latam.com/en_un/apps/personas/booking?fecha1_dia=07&fecha1_anomes=2021-02&from_city1=LIM&to_city1=MIA&ida_vuelta=ida_vuelta&fecha2_dia=18&fecha2_anomes=2021-02&from_city2=MIA&to_city2=LIM&cabina=Y&nadults=1&nchildren=0&ninfants=0&app=deal-finder#/'\n",
    "    driver = get_driver(page_path)\n",
    "    delay = 10\n",
    "    #get delay\n",
    "    try:\n",
    "        #closes pop-up\n",
    "        WebDriverWait(driver, delay).until(ExConditions.presence_of_element_located((By.XPATH, '//button[@class=\"align-right secondary slidedown-button\"]')))\n",
    "        driver.find_element_by_xpath('//button[@class=\"align-right secondary slidedown-button\"]').click()\n",
    "        print('webpage has finished to load')\n",
    "        return driver\n",
    "\n",
    "    except TimeoutException:\n",
    "        print('web page last too much to load')\n",
    "        sys.exit()"
   ]
  },
  {
   "cell_type": "code",
   "execution_count": 438,
   "metadata": {},
   "outputs": [],
   "source": [
    "def main():\n",
    "    t1 = time.time()\n",
    "    print('started time: ', t1)\n",
    "    info = obtener_info(page_load())\n",
    "    t2 = time.time()\n",
    "    print('finished time: ', t2)\n",
    "    print('total time: ', t2 - t1)"
   ]
  },
  {
   "cell_type": "code",
   "execution_count": 439,
   "metadata": {},
   "outputs": [
    {
     "name": "stdout",
     "output_type": "stream",
     "text": [
      "started time:  1608086357.8409033\n",
      "webpage has finished to load\n",
      "comienza el scraping...\n",
      "esisten 9 vuelos en la pagina\n",
      "flight:  LA2460\n",
      "flight:  LA2371LA500\n",
      "flight:  LA2377LA500\n",
      "flight:  LA2375LA500\n",
      "flight:  LA2474LA6113LA6112\n",
      "flight:  LA2474LA6119LA6112\n",
      "flight:  LA2474DL1553DL1422\n",
      "flight:  LA2474DL1107DL1422\n",
      "flight:  LA2474DL2422DL1422\n",
      "finished time:  1608086405.005815\n",
      "total time:  47.16491174697876\n"
     ]
    }
   ],
   "source": [
    "main()"
   ]
  },
  {
   "cell_type": "code",
   "execution_count": null,
   "metadata": {},
   "outputs": [],
   "source": []
  },
  {
   "cell_type": "code",
   "execution_count": null,
   "metadata": {},
   "outputs": [],
   "source": []
  },
  {
   "cell_type": "code",
   "execution_count": null,
   "metadata": {},
   "outputs": [],
   "source": []
  },
  {
   "cell_type": "code",
   "execution_count": 171,
   "metadata": {},
   "outputs": [],
   "source": [
    "driver.close()"
   ]
  }
 ],
 "metadata": {
  "kernelspec": {
   "display_name": "Python 3",
   "language": "python",
   "name": "python3"
  },
  "language_info": {
   "codemirror_mode": {
    "name": "ipython",
    "version": 3
   },
   "file_extension": ".py",
   "mimetype": "text/x-python",
   "name": "python",
   "nbconvert_exporter": "python",
   "pygments_lexer": "ipython3",
   "version": "3.7.6"
  }
 },
 "nbformat": 4,
 "nbformat_minor": 4
}
