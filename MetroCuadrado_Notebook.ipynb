{
 "cells": [
  {
   "cell_type": "markdown",
   "metadata": {},
   "source": [
    "# metrocuadrado.com WebScraping"
   ]
  },
  {
   "cell_type": "markdown",
   "metadata": {},
   "source": [
    "Imports del programa"
   ]
  },
  {
   "cell_type": "code",
   "execution_count": 1,
   "metadata": {},
   "outputs": [],
   "source": [
    "from selenium import webdriver\n",
    "from selenium.webdriver.chrome.options import Options\n",
    "from selenium.webdriver.common.keys import Keys\n",
    "import json"
   ]
  },
  {
   "cell_type": "markdown",
   "metadata": {},
   "source": [
    "Inicializa el driver y las opciones del mismo"
   ]
  },
  {
   "cell_type": "code",
   "execution_count": 2,
   "metadata": {},
   "outputs": [],
   "source": [
    "options = Options()\n",
    "options = webdriver.ChromeOptions() \n",
    "options.add_argument(\"start-maximized\")\n",
    "options.add_argument('--incognito')\n",
    "options.add_experimental_option(\"excludeSwitches\", [\"enable-automation\"])\n",
    "options.add_experimental_option('useAutomationExtension', False)\n",
    "\n",
    "driver = webdriver.Chrome('./chromedriver/chromedriver.exe',options=options)"
   ]
  },
  {
   "cell_type": "markdown",
   "metadata": {},
   "source": [
    "La pagina de https://www.metrocuadrado.com no permite hacer request con selenium se encuentra solucion en https://stackoverflow.com/questions/33225947/can-a-website-detect-when-you-are-using-selenium-with-chromedriver\n",
    "en donde explican que se debe de modificar el driver chromedriver.exe, cambiando al interior del ejecutable la cadena 'cdc_' por 'dog_' usando un editor de texto plano "
   ]
  },
  {
   "cell_type": "code",
   "execution_count": 14,
   "metadata": {},
   "outputs": [],
   "source": [
    "#Instance in normal mode\n",
    "#driver = webdriver.Chrome(executable_path='./chromedriver/chromedriver.exe')"
   ]
  },
  {
   "cell_type": "code",
   "execution_count": 3,
   "metadata": {},
   "outputs": [
    {
     "data": {
      "text/plain": [
       "'Mozilla/5.0 (Windows NT 10.0; Win64; x64) AppleWebKit/537.36 (KHTML, like Gecko) Chrome/88.0.4324.146 Safari/537.36'"
      ]
     },
     "execution_count": 3,
     "metadata": {},
     "output_type": "execute_result"
    }
   ],
   "source": [
    "# Opcional\n",
    "agent = driver.execute_script(\"return navigator.userAgent\")\n",
    "agent"
   ]
  },
  {
   "cell_type": "markdown",
   "metadata": {},
   "source": [
    "## Pagina Principal"
   ]
  },
  {
   "cell_type": "code",
   "execution_count": 4,
   "metadata": {},
   "outputs": [],
   "source": [
    "#fina raiz\n",
    "web = 'https://www.metrocuadrado.com'"
   ]
  },
  {
   "cell_type": "markdown",
   "metadata": {},
   "source": [
    "Carga pagina principal"
   ]
  },
  {
   "cell_type": "code",
   "execution_count": 5,
   "metadata": {},
   "outputs": [],
   "source": [
    "driver.get(web)"
   ]
  },
  {
   "cell_type": "markdown",
   "metadata": {},
   "source": [
    "Obtiene texto principal de la pagina"
   ]
  },
  {
   "cell_type": "code",
   "execution_count": 128,
   "metadata": {},
   "outputs": [
    {
     "data": {
      "text/plain": [
       "'ENCUENTRA INMUEBLES EN VENTA Y ARRIENDO:'"
      ]
     },
     "execution_count": 128,
     "metadata": {},
     "output_type": "execute_result"
    }
   ],
   "source": [
    "#se realiza una prueba obteniendo el texto\n",
    "header = driver.find_elements_by_class_name('H1-xsrgru-0')\n",
    "header[0].text"
   ]
  },
  {
   "cell_type": "markdown",
   "metadata": {},
   "source": [
    "### Selecciona Listas Pagina principal"
   ]
  },
  {
   "cell_type": "code",
   "execution_count": 539,
   "metadata": {
    "scrolled": true
   },
   "outputs": [],
   "source": [
    "# se ingresan los datos de bogota:\n",
    "# Listas de tipo de inmueble y tipo de compra @class = 'm2-select__value-container'\n",
    "lsts = driver.find_elements_by_class_name('m2-select__value-container')\n",
    "#lsts\n",
    "# Item 0 - Tipo de Inmueble\n",
    "# Item 1 - Tipo de compra"
   ]
  },
  {
   "cell_type": "markdown",
   "metadata": {},
   "source": [
    "### Selecciona Tipo de inmueble"
   ]
  },
  {
   "cell_type": "code",
   "execution_count": 540,
   "metadata": {},
   "outputs": [],
   "source": [
    "lsts[0].click()"
   ]
  },
  {
   "cell_type": "code",
   "execution_count": 541,
   "metadata": {
    "scrolled": true
   },
   "outputs": [
    {
     "data": {
      "text/plain": [
       "[<selenium.webdriver.remote.webelement.WebElement (session=\"5ad352e737d116f468c91566a517756d\", element=\"434d3938-c038-49b1-8975-568a83c4e578\")>,\n",
       " <selenium.webdriver.remote.webelement.WebElement (session=\"5ad352e737d116f468c91566a517756d\", element=\"4d0542b6-8782-4abb-8bb2-3e3f74406b3f\")>,\n",
       " <selenium.webdriver.remote.webelement.WebElement (session=\"5ad352e737d116f468c91566a517756d\", element=\"2116ab19-936f-4503-a00b-e9569057f8f0\")>,\n",
       " <selenium.webdriver.remote.webelement.WebElement (session=\"5ad352e737d116f468c91566a517756d\", element=\"12f081b9-d283-4b11-b4e6-195cdf48d876\")>,\n",
       " <selenium.webdriver.remote.webelement.WebElement (session=\"5ad352e737d116f468c91566a517756d\", element=\"d0dd61a8-4726-443a-8cfc-299a8c5ebfd9\")>,\n",
       " <selenium.webdriver.remote.webelement.WebElement (session=\"5ad352e737d116f468c91566a517756d\", element=\"32092684-b94f-4f63-8817-e96227c6a46c\")>,\n",
       " <selenium.webdriver.remote.webelement.WebElement (session=\"5ad352e737d116f468c91566a517756d\", element=\"ae215f55-b973-4abc-811c-633c1a56163d\")>,\n",
       " <selenium.webdriver.remote.webelement.WebElement (session=\"5ad352e737d116f468c91566a517756d\", element=\"eef1d9af-3d2b-451f-aed3-e6af9871a252\")>,\n",
       " <selenium.webdriver.remote.webelement.WebElement (session=\"5ad352e737d116f468c91566a517756d\", element=\"aaa3ed09-222e-4d11-93a3-c25b0b4d50ad\")>,\n",
       " <selenium.webdriver.remote.webelement.WebElement (session=\"5ad352e737d116f468c91566a517756d\", element=\"902bc118-fa21-4925-be97-afa329706688\")>]"
      ]
     },
     "execution_count": 541,
     "metadata": {},
     "output_type": "execute_result"
    }
   ],
   "source": [
    "items = driver.find_elements_by_class_name('CheckOption-nka7ni-0')\n",
    "items"
   ]
  },
  {
   "cell_type": "code",
   "execution_count": 542,
   "metadata": {},
   "outputs": [],
   "source": [
    "# Item 0 - Apartamentos\n",
    "# Item 1 - Casas\n",
    "# Item 2 - Oficinas\n",
    "# Item 3 - Locales\n",
    "# Item 4 - Bodegas\n",
    "# Item 5 - Lores\n",
    "# Item 6 - Fincas\n",
    "# Item 7 - Edificios de Oficinas\n",
    "# Item 8 - Edificios de Apartamentos\n",
    "# Item 9 - Consultorios\n",
    "items[0].click()"
   ]
  },
  {
   "cell_type": "code",
   "execution_count": 543,
   "metadata": {},
   "outputs": [],
   "source": [
    "lsts[0].click()"
   ]
  },
  {
   "cell_type": "markdown",
   "metadata": {},
   "source": [
    "### Selecciona Tipo de Compra"
   ]
  },
  {
   "cell_type": "code",
   "execution_count": 544,
   "metadata": {},
   "outputs": [],
   "source": [
    "lsts[1].click()"
   ]
  },
  {
   "cell_type": "code",
   "execution_count": 545,
   "metadata": {
    "scrolled": true
   },
   "outputs": [
    {
     "data": {
      "text/plain": [
       "[<selenium.webdriver.remote.webelement.WebElement (session=\"5ad352e737d116f468c91566a517756d\", element=\"a6cdc693-8382-4cc2-8c70-6b91259b8da9\")>,\n",
       " <selenium.webdriver.remote.webelement.WebElement (session=\"5ad352e737d116f468c91566a517756d\", element=\"5b656a82-d89c-41fa-b28a-058aec09df41\")>,\n",
       " <selenium.webdriver.remote.webelement.WebElement (session=\"5ad352e737d116f468c91566a517756d\", element=\"a0c665a3-9e02-469c-aea6-28b3299e7900\")>,\n",
       " <selenium.webdriver.remote.webelement.WebElement (session=\"5ad352e737d116f468c91566a517756d\", element=\"017eb769-413f-4cf7-8f29-95595815b10d\")>]"
      ]
     },
     "execution_count": 545,
     "metadata": {},
     "output_type": "execute_result"
    }
   ],
   "source": [
    "items = driver.find_elements_by_class_name('m2-select__option')\n",
    "items"
   ]
  },
  {
   "cell_type": "code",
   "execution_count": 546,
   "metadata": {},
   "outputs": [],
   "source": [
    "# Item 0 - Compra Nuevo\n",
    "# Item 1 - Compra Usado\n",
    "# Item 2 - Compra Nuevo y Usado\n",
    "# Item 3 - Arriendo\n",
    "items[0].click()"
   ]
  },
  {
   "cell_type": "markdown",
   "metadata": {},
   "source": [
    "### Selecciona Ciudad, Zona o Barrio"
   ]
  },
  {
   "cell_type": "code",
   "execution_count": 547,
   "metadata": {
    "scrolled": false
   },
   "outputs": [
    {
     "data": {
      "text/plain": [
       "<selenium.webdriver.remote.webelement.WebElement (session=\"5ad352e737d116f468c91566a517756d\", element=\"752c5bcc-0d6c-4f4a-88db-def30f629e38\")>"
      ]
     },
     "execution_count": 547,
     "metadata": {},
     "output_type": "execute_result"
    }
   ],
   "source": [
    "busqueda = driver.find_element_by_class_name('Input-wun2o8-0')\n",
    "busqueda"
   ]
  },
  {
   "cell_type": "code",
   "execution_count": 548,
   "metadata": {},
   "outputs": [],
   "source": [
    "busqueda.send_keys('Bogota')"
   ]
  },
  {
   "cell_type": "code",
   "execution_count": 549,
   "metadata": {
    "scrolled": true
   },
   "outputs": [
    {
     "data": {
      "text/plain": [
       "[<selenium.webdriver.remote.webelement.WebElement (session=\"5ad352e737d116f468c91566a517756d\", element=\"5b5f71d1-de8e-43b2-b9a0-655a90256234\")>,\n",
       " <selenium.webdriver.remote.webelement.WebElement (session=\"5ad352e737d116f468c91566a517756d\", element=\"c1749b28-5601-4d34-b3c2-e97ebe0c8008\")>,\n",
       " <selenium.webdriver.remote.webelement.WebElement (session=\"5ad352e737d116f468c91566a517756d\", element=\"92565d43-7067-43b3-a833-20cf9d60ec19\")>]"
      ]
     },
     "execution_count": 549,
     "metadata": {},
     "output_type": "execute_result"
    }
   ],
   "source": [
    "sugerencias = driver.find_elements_by_class_name('react-autosuggest__section-container')\n",
    "sugerencias"
   ]
  },
  {
   "cell_type": "code",
   "execution_count": 550,
   "metadata": {},
   "outputs": [],
   "source": [
    "if len(sugerencias) != 0:\n",
    "    sugerencias[0].find_element_by_tag_name('li').click()"
   ]
  },
  {
   "cell_type": "code",
   "execution_count": 551,
   "metadata": {
    "scrolled": true
   },
   "outputs": [
    {
     "data": {
      "text/plain": [
       "<selenium.webdriver.remote.webelement.WebElement (session=\"5ad352e737d116f468c91566a517756d\", element=\"9ec1e653-29ba-4088-8825-d4d3f3a17da4\")>"
      ]
     },
     "execution_count": 551,
     "metadata": {},
     "output_type": "execute_result"
    }
   ],
   "source": [
    "buscar = driver.find_element_by_id('btnSearch')\n",
    "buscar"
   ]
  },
  {
   "cell_type": "code",
   "execution_count": 552,
   "metadata": {},
   "outputs": [],
   "source": [
    "buscar.click()"
   ]
  },
  {
   "cell_type": "markdown",
   "metadata": {},
   "source": [
    "## Pagina de busqueda"
   ]
  },
  {
   "cell_type": "markdown",
   "metadata": {},
   "source": [
    "### Filtros"
   ]
  },
  {
   "cell_type": "code",
   "execution_count": 243,
   "metadata": {
    "scrolled": false
   },
   "outputs": [],
   "source": [
    "lsts = driver.find_elements_by_class_name('m2-select__value-container')\n",
    "# Item 0 - Tipo de Inmueble\n",
    "# Item 1 - Tipo de compra\n",
    "# Item 2 - Orden\n",
    "# Item 3 - Precio Desde\n",
    "# Item 4 - Precio Hasta\n",
    "# Item 5 - Area Desde\n",
    "# Item 6 - Area Hasta\n",
    "# Item 7 - Tipo de Inmueble = \n",
    "# Item 8 - Antiguedad\n",
    "# Item 9 - Estrato"
   ]
  },
  {
   "cell_type": "code",
   "execution_count": 240,
   "metadata": {},
   "outputs": [],
   "source": [
    "lsts[0].click()\n",
    "tipo_inm = driver.find_elements_by_class_name('m2-select__option')\n",
    "# Item 0 - Apartamentos\n",
    "# Item 1 - Casas\n",
    "# Item 2 - Oficinas\n",
    "# Item 3 - Locales\n",
    "# Item 4 - Bodegas\n",
    "# Item 5 - Lores\n",
    "# Item 6 - Fincas\n",
    "# Item 7 - Edificios de Oficinas\n",
    "# Item 8 - Edificios de Apartamentos\n",
    "# Item 9 - Consultorios"
   ]
  },
  {
   "cell_type": "code",
   "execution_count": 239,
   "metadata": {},
   "outputs": [],
   "source": [
    "tipo_inm[0].click()"
   ]
  },
  {
   "cell_type": "code",
   "execution_count": 220,
   "metadata": {},
   "outputs": [],
   "source": [
    "lsts[1].click()\n",
    "tipo_com = driver.find_elements_by_class_name('m2-select__option')\n",
    "# Item 0 - Compra Nuevo\n",
    "# Item 1 - Compra Usado\n",
    "# Item 2 - Compra Nuevo y Usado\n",
    "# Item 3 - Arriendo"
   ]
  },
  {
   "cell_type": "code",
   "execution_count": 221,
   "metadata": {},
   "outputs": [],
   "source": [
    "tipo_com[0].click()"
   ]
  },
  {
   "cell_type": "code",
   "execution_count": 206,
   "metadata": {},
   "outputs": [],
   "source": [
    "#Campo de busqueda de texto\n",
    "busqueda = driver.find_element_by_class_name('Input-wun2o8-0')\n",
    "\n",
    "#Borrar lo que se encuentra en el campo de busqueda\n",
    "while len(busqueda.get_attribute('value')) > 0:\n",
    "    busqueda.send_keys(Keys.BACK_SPACE)\n",
    "    \n",
    "#Envia el texto\n",
    "busqueda.send_keys('Bogota')\n",
    "\n",
    "#busca sugerencias\n",
    "sugerencias = driver.find_elements_by_class_name('react-autosuggest__section-container')\n",
    "\n",
    "#Si existe sugerencias se escoje la primera sugerencia\n",
    "if len(sugerencias) != 0:\n",
    "    sugerencias[0].find_element_by_tag_name('li').click()"
   ]
  },
  {
   "cell_type": "code",
   "execution_count": 241,
   "metadata": {},
   "outputs": [],
   "source": [
    "#Boton de busqueda \n",
    "busqueda = driver.find_element_by_id('btnSearch')\n",
    "busqueda.click()"
   ]
  },
  {
   "cell_type": "code",
   "execution_count": 244,
   "metadata": {},
   "outputs": [
    {
     "data": {
      "text/plain": [
       "8"
      ]
     },
     "execution_count": 244,
     "metadata": {},
     "output_type": "execute_result"
    }
   ],
   "source": [
    "lsts[2].click()\n",
    "orden = driver.find_elements_by_class_name('m2-select__option')\n",
    "# Item 0 - Mayor Precio\n",
    "# Item 1 - Menor Precio\n",
    "# Item 2 - Más reciente\n",
    "# Item 3 - Menos reciente\n",
    "# Item 4 - Más habitaciones\n",
    "# Item 5 - Menos habitaciones\n",
    "# Item 6 - Mayor área\n",
    "# Item 7 - Menor área\n",
    "len(orden)"
   ]
  },
  {
   "cell_type": "code",
   "execution_count": 245,
   "metadata": {},
   "outputs": [],
   "source": [
    "orden[1].click()"
   ]
  },
  {
   "cell_type": "code",
   "execution_count": 260,
   "metadata": {},
   "outputs": [],
   "source": [
    "#Campo del filtro de busqueda\n",
    "filtro = driver.find_element_by_class_name('sc-cvbbAY')\n",
    "\n",
    "#Borrar lo que se encuentra en el campo de busqueda\n",
    "while len(filtro.get_attribute('value')) > 0:\n",
    "    filtro.send_keys(Keys.BACK_SPACE)\n",
    "\n",
    "filtro.send_keys('nueva zelandia')"
   ]
  },
  {
   "cell_type": "code",
   "execution_count": 268,
   "metadata": {},
   "outputs": [],
   "source": [
    "ok_button = driver.find_element_by_xpath('//button[@class=\"sc-htoDjs brhAsq Button-bepvgg-0 dqiWxy btn-expand btn btn-secondary\"]')\n",
    "ok_button.click()"
   ]
  },
  {
   "cell_type": "code",
   "execution_count": 273,
   "metadata": {},
   "outputs": [
    {
     "data": {
      "text/plain": [
       "15"
      ]
     },
     "execution_count": 273,
     "metadata": {},
     "output_type": "execute_result"
    }
   ],
   "source": [
    "lsts[3].click()\n",
    "precio_desde = driver.find_elements_by_class_name('m2-select__option')\n",
    "# Item 0 - 10M\n",
    "# Item 1 - 20M\n",
    "# Item 2 - 30M\n",
    "# Item 3 - 40M\n",
    "# Item 4 - 70M\n",
    "# Item 5 - 100M\n",
    "# Item 6 - 150M\n",
    "# Item 7 - 200M\n",
    "# Item 8 - 250M\n",
    "# Item 9 - 300M\n",
    "# Item 10 - 400M\n",
    "# Item 11 - 500M\n",
    "# Item 12 - 650M\n",
    "# Item 13 - 880M\n",
    "# Item 14 - 1000M\n",
    "len(precio_desde)"
   ]
  },
  {
   "cell_type": "code",
   "execution_count": 274,
   "metadata": {},
   "outputs": [],
   "source": [
    "precio_desde[0].click()"
   ]
  },
  {
   "cell_type": "code",
   "execution_count": 271,
   "metadata": {},
   "outputs": [
    {
     "data": {
      "text/plain": [
       "15"
      ]
     },
     "execution_count": 271,
     "metadata": {},
     "output_type": "execute_result"
    }
   ],
   "source": [
    "lsts[4].click()\n",
    "precio_hasta = driver.find_elements_by_class_name('m2-select__option')\n",
    "# Item 0 - 10M\n",
    "# Item 1 - 20M\n",
    "# Item 2 - 30M\n",
    "# Item 3 - 40M\n",
    "# Item 4 - 70M\n",
    "# Item 5 - 100M\n",
    "# Item 6 - 150M\n",
    "# Item 7 - 200M\n",
    "# Item 8 - 250M\n",
    "# Item 9 - 300M\n",
    "# Item 10 - 400M\n",
    "# Item 11 - 500M\n",
    "# Item 12 - 650M\n",
    "# Item 13 - 880M\n",
    "# Item 14 - 1000M\n",
    "len(precio_hasta)"
   ]
  },
  {
   "cell_type": "code",
   "execution_count": 272,
   "metadata": {},
   "outputs": [],
   "source": [
    "precio_hasta[-1].click()"
   ]
  },
  {
   "cell_type": "code",
   "execution_count": 279,
   "metadata": {},
   "outputs": [
    {
     "data": {
      "text/plain": [
       "3"
      ]
     },
     "execution_count": 279,
     "metadata": {},
     "output_type": "execute_result"
    }
   ],
   "source": [
    "#form-check\n",
    "form_checks = driver.find_elements_by_xpath('//div[@class=\"mb-0 form-group\"]//div[@class=\"form-check\"]')\n",
    "len(form_checks)"
   ]
  },
  {
   "cell_type": "code",
   "execution_count": 281,
   "metadata": {},
   "outputs": [
    {
     "data": {
      "text/plain": [
       "5"
      ]
     },
     "execution_count": 281,
     "metadata": {},
     "output_type": "execute_result"
    }
   ],
   "source": [
    "#Habitaciones \n",
    "habitaciones = form_checks[0].find_elements_by_tag_name('label')\n",
    "len(habitaciones)\n",
    "# Item 0 - 1\n",
    "# Item 1 - 2\n",
    "# Item 2 - 3\n",
    "# Item 3 - 4\n",
    "# Item 4 - 5+"
   ]
  },
  {
   "cell_type": "code",
   "execution_count": 282,
   "metadata": {},
   "outputs": [],
   "source": [
    "habitaciones[2].click()"
   ]
  },
  {
   "cell_type": "code",
   "execution_count": 283,
   "metadata": {},
   "outputs": [
    {
     "data": {
      "text/plain": [
       "5"
      ]
     },
     "execution_count": 283,
     "metadata": {},
     "output_type": "execute_result"
    }
   ],
   "source": [
    "baños = form_checks[1].find_elements_by_tag_name('label')\n",
    "len(baños)\n",
    "# Item 0 - 1\n",
    "# Item 1 - 2\n",
    "# Item 2 - 3\n",
    "# Item 3 - 4\n",
    "# Item 4 - 5+"
   ]
  },
  {
   "cell_type": "code",
   "execution_count": 284,
   "metadata": {},
   "outputs": [],
   "source": [
    "baños[1].click()"
   ]
  },
  {
   "cell_type": "code",
   "execution_count": 285,
   "metadata": {},
   "outputs": [
    {
     "data": {
      "text/plain": [
       "5"
      ]
     },
     "execution_count": 285,
     "metadata": {},
     "output_type": "execute_result"
    }
   ],
   "source": [
    "garajes = form_checks[2].find_elements_by_tag_name('label')\n",
    "len(garajes)\n",
    "# Item 0 - 1\n",
    "# Item 1 - 2\n",
    "# Item 2 - 3\n",
    "# Item 3 - 4\n",
    "# Item 4 - 5+"
   ]
  },
  {
   "cell_type": "code",
   "execution_count": 287,
   "metadata": {},
   "outputs": [],
   "source": [
    "garajes[4].click()"
   ]
  },
  {
   "cell_type": "code",
   "execution_count": 292,
   "metadata": {},
   "outputs": [
    {
     "data": {
      "text/plain": [
       "7"
      ]
     },
     "execution_count": 292,
     "metadata": {},
     "output_type": "execute_result"
    }
   ],
   "source": [
    "lsts[5].click()\n",
    "area_desde = driver.find_elements_by_class_name('m2-select__option')\n",
    "len(area_desde)\n",
    "# Item 0 - 60m2\n",
    "# Item 1 - 100m2\n",
    "# Item 2 - 200m2\n",
    "# Item 3 - 300m2\n",
    "# Item 4 - 400m2\n",
    "# Item 5 - 500m2\n",
    "# Item 6 - 1200m2"
   ]
  },
  {
   "cell_type": "code",
   "execution_count": 293,
   "metadata": {},
   "outputs": [],
   "source": [
    "area_desde[1].click()"
   ]
  },
  {
   "cell_type": "code",
   "execution_count": 294,
   "metadata": {},
   "outputs": [
    {
     "data": {
      "text/plain": [
       "5"
      ]
     },
     "execution_count": 294,
     "metadata": {},
     "output_type": "execute_result"
    }
   ],
   "source": [
    "lsts[6].click()\n",
    "area_hasta = driver.find_elements_by_class_name('m2-select__option')\n",
    "len(area_hasta)\n",
    "# Item 0 - 200m2\n",
    "# Item 1 - 300m2\n",
    "# Item 2 - 400m2\n",
    "# Item 3 - 500m2\n",
    "# Item 4 - 1200m2"
   ]
  },
  {
   "cell_type": "code",
   "execution_count": 295,
   "metadata": {},
   "outputs": [],
   "source": [
    "area_hasta[3].click()"
   ]
  },
  {
   "cell_type": "code",
   "execution_count": 303,
   "metadata": {},
   "outputs": [],
   "source": [
    "lsts[7].click()\n",
    "tipo_inm = driver.find_elements_by_class_name('m2-select__option')\n",
    "# Item 0 - Apartamentos\n",
    "# Item 1 - Casas\n",
    "# Item 2 - Oficinas\n",
    "# Item 3 - Locales\n",
    "# Item 4 - Bodegas\n",
    "# Item 5 - Lores\n",
    "# Item 6 - Fincas\n",
    "# Item 7 - Edificios de Oficinas\n",
    "# Item 8 - Edificios de Apartamentos\n",
    "# Item 9 - Consultorios"
   ]
  },
  {
   "cell_type": "code",
   "execution_count": 302,
   "metadata": {},
   "outputs": [],
   "source": [
    "tipo_inm[0].click()"
   ]
  },
  {
   "cell_type": "code",
   "execution_count": 304,
   "metadata": {},
   "outputs": [
    {
     "data": {
      "text/plain": [
       "4"
      ]
     },
     "execution_count": 304,
     "metadata": {},
     "output_type": "execute_result"
    }
   ],
   "source": [
    "lsts[8].click()\n",
    "antiguedad = driver.find_elements_by_class_name('m2-select__option')\n",
    "len(antiguedad)\n",
    "# Item 0 - Todas\n",
    "# Item 1 - Sobre Plano\n",
    "# Item 2 - En Construccion\n",
    "# Item 3 - Para estrenar"
   ]
  },
  {
   "cell_type": "code",
   "execution_count": 305,
   "metadata": {},
   "outputs": [],
   "source": [
    "antiguedad[3].click()"
   ]
  },
  {
   "cell_type": "code",
   "execution_count": 308,
   "metadata": {
    "scrolled": true
   },
   "outputs": [
    {
     "data": {
      "text/plain": [
       "0"
      ]
     },
     "execution_count": 308,
     "metadata": {},
     "output_type": "execute_result"
    }
   ],
   "source": [
    "lsts[9].click()\n",
    "estrato = driver.find_elements_by_class_name('m2-select__option')\n",
    "len(estrato)\n",
    "# Item 0 - Estrato 1\n",
    "# Item 1 - Estrato 2\n",
    "# Item 2 - Estrato 3\n",
    "# Item 3 - Estrato 4\n",
    "# Item 4 - Estrato 5\n",
    "# Item 5 - Estrato 6"
   ]
  },
  {
   "cell_type": "code",
   "execution_count": 307,
   "metadata": {},
   "outputs": [],
   "source": [
    "estrato[3].click()"
   ]
  },
  {
   "cell_type": "markdown",
   "metadata": {},
   "source": [
    "## Seleccionar Links de la Busqueda"
   ]
  },
  {
   "cell_type": "code",
   "execution_count": 553,
   "metadata": {},
   "outputs": [],
   "source": [
    "#Anuncios Destacados\n",
    "destacados = driver.find_elements_by_xpath('//div[@class=\"sc-caSCKo ipmUAp row\"]/div')\n",
    "#print(destacados[0].find_element_by_xpath('.//a').get_attribute('href'))"
   ]
  },
  {
   "cell_type": "code",
   "execution_count": 554,
   "metadata": {},
   "outputs": [],
   "source": [
    "sitios = []"
   ]
  },
  {
   "cell_type": "code",
   "execution_count": 555,
   "metadata": {
    "scrolled": true
   },
   "outputs": [
    {
     "name": "stdout",
     "output_type": "stream",
     "text": [
      "https://www.metrocuadrado.com/proyecto/tamesis-175/11672-C0008-02\n",
      "https://www.metrocuadrado.com/proyecto/turo/11672-C0006-03\n",
      "https://www.metrocuadrado.com/proyecto/toscana/11672-C0003-04\n"
     ]
    }
   ],
   "source": [
    "for destacado in destacados:\n",
    "    sitios.append(destacado.find_element_by_xpath('.//a').get_attribute('href'))\n",
    "    print(destacado.find_element_by_xpath('.//a').get_attribute('href'))\n",
    "    #print(destacado.find_element_by_xpath('.//a').get_attribute('href'))\n",
    "    #sitios.append(destacado.find_element_by_xpath('.//a').get_attribute('href'))"
   ]
  },
  {
   "cell_type": "code",
   "execution_count": 556,
   "metadata": {},
   "outputs": [
    {
     "name": "stdout",
     "output_type": "stream",
     "text": [
      "https://www.metrocuadrado.com/proyecto/cenit-de-la-cabrera/3457-C00001-23\n"
     ]
    }
   ],
   "source": [
    "#Anuncios Corrientes\n",
    "corrientes = driver.find_elements_by_xpath('//ul[@class=\"Ul-sctud2-0 jyGHXP realestate-results-list browse-results-list\"]/li')\n",
    "print(corrientes[0].find_element_by_xpath('.//div[@class=\"sc-jqCOkK bpoZJE RecordCard-sc-1tx60lw-0 kerSYW CardResultDesktop-sc-9359pw-0 dRoyEE d-none d-sm-block mb-3 CardResultDesktop-sc-9359pw-0 dRoyEE d-none d-sm-block mb-3 card\"]//a').get_attribute('href'))"
   ]
  },
  {
   "cell_type": "code",
   "execution_count": 557,
   "metadata": {
    "scrolled": true
   },
   "outputs": [
    {
     "name": "stdout",
     "output_type": "stream",
     "text": [
      "1 https://www.metrocuadrado.com/proyecto/cenit-de-la-cabrera/3457-C00001-23\n",
      "2 https://www.metrocuadrado.com/proyecto/cenit-de-la-cabrera/3457-C00001-28\n",
      "3 https://www.metrocuadrado.com/proyecto/venetto-191/11731-C0001-02\n",
      "4 https://www.metrocuadrado.com/proyecto/venetto-191/11731-C0001-06\n",
      "5 https://www.metrocuadrado.com/proyecto/venetto-191/11731-C0001-08\n",
      "6 https://www.metrocuadrado.com/proyecto/venetto-191/11731-C0001-05\n",
      "7 https://www.metrocuadrado.com/proyecto/parque-central-de-occidente-3/1572-C00011-04\n",
      "8 https://www.metrocuadrado.com/proyecto/parque-central-de-occidente-3/1572-C00011-03\n",
      "9 https://www.metrocuadrado.com/proyecto/tekto-museo/10990-C0001-03\n",
      "10 https://www.metrocuadrado.com/proyecto/edificio-torre-de-la-independencia/262-C0002-08\n",
      "11 https://www.metrocuadrado.com/proyecto/gran-reserva-de-oporto/1631-C00011-05\n",
      "12 https://www.metrocuadrado.com/proyecto/citadinno/787-C0005-04\n",
      "13 https://www.metrocuadrado.com/proyecto/klimt/1631-C0029-02\n",
      "14 https://www.metrocuadrado.com/proyecto/picabia/1631-C00013-01\n",
      "15 https://www.metrocuadrado.com/proyecto/picabia/1631-C00013-03\n",
      "16 https://www.metrocuadrado.com/proyecto/altos-de-madelena/9830-C0011-04\n",
      "17 https://www.metrocuadrado.com/proyecto/citadinno/787-C0005-01\n",
      "18 https://www.metrocuadrado.com/proyecto/altos-de-madelena/9830-C0011-02\n",
      "19 https://www.metrocuadrado.com/proyecto/de-cambil-127-smart-house/12113-C0002-03\n",
      "20 https://www.metrocuadrado.com/proyecto/mistral-ciudad-cuatro-vientos/1614-C0074-01\n",
      "21 https://www.metrocuadrado.com/proyecto/de-cambil-127-club-house/12113-C0001-02\n",
      "22 https://www.metrocuadrado.com/proyecto/de-cambil-127-smart-house/12113-C0002-18\n",
      "23 https://www.metrocuadrado.com/proyecto/urban-salitre/10880-C0009-04\n",
      "24 https://www.metrocuadrado.com/proyecto/balcones-de-palo-alto/11951-C0001-01\n",
      "25 https://www.metrocuadrado.com/proyecto/de-cambil-127-club-house/12113-C0001-04\n",
      "26 https://www.metrocuadrado.com/proyecto/de-cambil-127-smart-house/12113-C0002-12\n",
      "27 https://www.metrocuadrado.com/proyecto/balcones-de-palo-alto/11951-C0001-05\n",
      "28 https://www.metrocuadrado.com/proyecto/de-cambil-127-club-house/12113-C0001-01\n",
      "29 https://www.metrocuadrado.com/proyecto/de-cambil-127-smart-house/12113-C0002-09\n",
      "30 https://www.metrocuadrado.com/proyecto/balcones-de-palo-alto/11951-C0001-03\n",
      "31 https://www.metrocuadrado.com/proyecto/de-cambil-127-club-house/12113-C0001-11\n",
      "32 https://www.metrocuadrado.com/proyecto/alejandria-mediterraneo/1614-C0041-02\n",
      "33 https://www.metrocuadrado.com/proyecto/primera-este/11871-C0001-04\n",
      "34 https://www.metrocuadrado.com/proyecto/entreparques-109/10399-C0002-02\n",
      "35 https://www.metrocuadrado.com/proyecto/aragon-castilla-reservado/249-C0003-04\n",
      "36 https://www.metrocuadrado.com/proyecto/burgos-castilla-reservado/249-C0005-01\n",
      "37 https://www.metrocuadrado.com/proyecto/aragon-castilla-reservado/249-C0003-02\n",
      "38 https://www.metrocuadrado.com/proyecto/burgos-castilla-reservado/249-C0005-02\n",
      "39 https://www.metrocuadrado.com/proyecto/castellon-de-los-condes/249-C0010-01\n",
      "40 https://www.metrocuadrado.com/proyecto/alejandria-mediterraneo/1614-C0041-04\n",
      "41 https://www.metrocuadrado.com/proyecto/portus-alejandria/1614-C0042-01\n",
      "42 https://www.metrocuadrado.com/proyecto/tamesis-175/11672-C0008-01\n",
      "43 https://www.metrocuadrado.com/proyecto/primera-este/11871-C0001-03\n",
      "44 https://www.metrocuadrado.com/proyecto/primera-este/11871-C0001-01\n",
      "45 https://www.metrocuadrado.com/proyecto/alejandria-mediterraneo/1614-C0041-05\n",
      "46 https://www.metrocuadrado.com/proyecto/tamesis-175/11672-C0008-05\n",
      "47 https://www.metrocuadrado.com/proyecto/primera-este/11871-C0001-05\n",
      "48 https://www.metrocuadrado.com/proyecto/aragon-castilla-reservado/249-C0003-03\n",
      "49 https://www.metrocuadrado.com/proyecto/baviera/249-C0004-03\n",
      "50 https://www.metrocuadrado.com/proyecto/burgos-castilla-reservado/249-C0005-03\n"
     ]
    }
   ],
   "source": [
    "i = 1\n",
    "for corriente in corrientes:\n",
    "    print(i, corriente.find_element_by_xpath('.//div[@class=\"sc-jqCOkK bpoZJE RecordCard-sc-1tx60lw-0 kerSYW CardResultDesktop-sc-9359pw-0 dRoyEE d-none d-sm-block mb-3 CardResultDesktop-sc-9359pw-0 dRoyEE d-none d-sm-block mb-3 card\"]//a').get_attribute('href'))\n",
    "    sitios.append(corriente.find_element_by_xpath('.//div[@class=\"sc-jqCOkK bpoZJE RecordCard-sc-1tx60lw-0 kerSYW CardResultDesktop-sc-9359pw-0 dRoyEE d-none d-sm-block mb-3 CardResultDesktop-sc-9359pw-0 dRoyEE d-none d-sm-block mb-3 card\"]//a').get_attribute('href'))\n",
    "    i += 1\n",
    "#corriente = corrientes[0].find_element_by_xpath('.//a').get_attribute('href')\n",
    "#corriente"
   ]
  },
  {
   "cell_type": "markdown",
   "metadata": {},
   "source": [
    "## Siguiente pagina"
   ]
  },
  {
   "cell_type": "code",
   "execution_count": 361,
   "metadata": {},
   "outputs": [],
   "source": [
    "siguiente = driver.find_element_by_class_name('item-icon-next')\n",
    "siguiente.find_element_by_xpath('.//a').click()"
   ]
  },
  {
   "cell_type": "markdown",
   "metadata": {},
   "source": [
    "## Extrayendo informacion de cada Anuncio"
   ]
  },
  {
   "cell_type": "code",
   "execution_count": 558,
   "metadata": {},
   "outputs": [],
   "source": [
    "driver.get(sitios[-1])"
   ]
  },
  {
   "cell_type": "markdown",
   "metadata": {},
   "source": [
    "### Obtener Datos"
   ]
  },
  {
   "cell_type": "code",
   "execution_count": 560,
   "metadata": {},
   "outputs": [],
   "source": [
    "data = json.loads(driver.find_element_by_xpath('//script[contains(.,\"props\")]').get_attribute('innerHTML'))\n",
    "data = data.get('props').get('initialProps').get('pageProps').get('realEstate')\n",
    "#print(data)"
   ]
  },
  {
   "cell_type": "code",
   "execution_count": 602,
   "metadata": {},
   "outputs": [],
   "source": [
    "# obtiene Informacion\n",
    "def apartment_info(element):\n",
    "    \"\"\"Get the apartment useful information\n",
    "    \n",
    "    Arguments:\n",
    "        dict element: it provides the apartment informetion\n",
    "        \n",
    "    Returns: \n",
    "        dict info: it returns useful aparment information\n",
    "        \n",
    "    \"\"\"\n",
    "    \n",
    "    info = {}\n",
    "    \n",
    "    ### General\n",
    "    \n",
    "    # propertyId\n",
    "    info['propertyId'] = element.get('propertyId')\n",
    "    \n",
    "    # publicationId\n",
    "    info['publicationId'] = element.get('publicationId')\n",
    "    \n",
    "    # propertyType\n",
    "    info['propertyType'] = element.get('propertyType')\n",
    "    \n",
    "    # businessType\n",
    "    temp = {}\n",
    "    temp['Type'] = element.get('businessType')\n",
    "    temp['Id'] = element.get('businessTypeId')\n",
    "    info['businessType'] = temp\n",
    "        \n",
    "    # propertyType\n",
    "    info['publicationStatus'] = element.get('publicationStatus')\n",
    "    \n",
    "    # Ubication\n",
    "    temp = {}\n",
    "    temp['city'] = element.get('city')\n",
    "    temp['zone'] = element.get('zone')\n",
    "    temp['sector'] = element.get('sector')\n",
    "    temp['neighborhood'] = element.get('neighborhood')\n",
    "    temp['commonNeighborhood'] = element.get('commonNeighborhood')\n",
    "    info['Ubication'] = temp\n",
    "    \n",
    "    ### Project\n",
    "    project = {}\n",
    "    \n",
    "    \n",
    "    \n",
    "    # Prices\n",
    "    temp = {}\n",
    "    temp['salePrice'] = element.get('salePrice')\n",
    "    temp['rentPrice'] = element.get('rentPrice')\n",
    "    project['Prices'] = temp\n",
    "    \n",
    "    # \n",
    "    \n",
    "    return info"
   ]
  },
  {
   "cell_type": "code",
   "execution_count": 603,
   "metadata": {},
   "outputs": [
    {
     "name": "stdout",
     "output_type": "stream",
     "text": [
      "Help on function apartment_info in module __main__:\n",
      "\n",
      "apartment_info(element)\n",
      "    Get the apartment useful information\n",
      "    \n",
      "    Arguments:\n",
      "        dict element: it provides the apartment informetion\n",
      "        \n",
      "    Returns: \n",
      "        dict info: it returns useful aparment information\n",
      "\n",
      "{'propertyId': '249-C0005-03', 'publicationId': '249-C0005', 'propertyType': {'id': '1', 'nombre': 'Apartamento'}, 'businessType': {'Type': 'Venta', 'Id': '1'}, 'publicationStatus': 'S', 'Prices': {'salePrice': 198172000, 'rentPrice': None}, 'Ubication': {'city': {'id': '1', 'nombre': 'Bogotá D.C.'}, 'zone': {'id': '4', 'nombre': 'Occidental'}, 'sector': {'id': '24', 'nombre': 'Castilla Marsella'}, 'neighborhood': 'VALLADOLID', 'commonNeighborhood': 'CASTILLA'}}\n"
     ]
    }
   ],
   "source": [
    "help(apartment_info)\n",
    "print(apartment_info(data))"
   ]
  }
 ],
 "metadata": {
  "kernelspec": {
   "display_name": "Python 3",
   "language": "python",
   "name": "python3"
  },
  "language_info": {
   "codemirror_mode": {
    "name": "ipython",
    "version": 3
   },
   "file_extension": ".py",
   "mimetype": "text/x-python",
   "name": "python",
   "nbconvert_exporter": "python",
   "pygments_lexer": "ipython3",
   "version": "3.7.6"
  }
 },
 "nbformat": 4,
 "nbformat_minor": 4
}
