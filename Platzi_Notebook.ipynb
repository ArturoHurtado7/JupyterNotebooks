{
 "cells": [
  {
   "cell_type": "markdown",
   "metadata": {},
   "source": [
    "# Platzi Scraper"
   ]
  },
  {
   "cell_type": "markdown",
   "metadata": {},
   "source": [
    "Inicializa lo necesario"
   ]
  },
  {
   "cell_type": "code",
   "execution_count": 4,
   "metadata": {},
   "outputs": [],
   "source": [
    "#imports e inicializador del driver\n",
    "from selenium import webdriver\n",
    "from selenium.webdriver.chrome.options import Options\n",
    "from selenium.webdriver.common.keys import Keys\n",
    "from getpass import getpass\n",
    "import os\n",
    "import json\n",
    "import time"
   ]
  },
  {
   "cell_type": "code",
   "execution_count": 5,
   "metadata": {},
   "outputs": [],
   "source": [
    "#Inicializa driver\n",
    "options = Options()\n",
    "options = webdriver.ChromeOptions() \n",
    "options.add_argument(\"start-maximized\")\n",
    "options.add_argument('--incognito')\n",
    "options.add_experimental_option(\"excludeSwitches\", [\"enable-automation\"])\n",
    "options.add_experimental_option('useAutomationExtension', False)\n",
    "driver = webdriver.Chrome('./chromedriver/chromedriver.exe',options=options)"
   ]
  },
  {
   "cell_type": "code",
   "execution_count": 6,
   "metadata": {},
   "outputs": [],
   "source": [
    "#Dirección web del login\n",
    "web = 'https://platzi.com/login/'\n",
    "driver.get(web)"
   ]
  },
  {
   "cell_type": "code",
   "execution_count": 7,
   "metadata": {},
   "outputs": [],
   "source": [
    "#Identify needed elements\n",
    "username_textbox = driver.find_element_by_xpath('//input[@type=\"email\"]')\n",
    "password_textbox = driver.find_element_by_xpath('//input[@type=\"password\"]')\n",
    "submit_button_id = driver.find_element_by_xpath('//button[@class=\"btn-Green btn--md\"]')"
   ]
  },
  {
   "cell_type": "code",
   "execution_count": 5,
   "metadata": {},
   "outputs": [],
   "source": [
    "#Validate information\n",
    "#print('username_textbox', username_textbox)\n",
    "#print('password_textbox', password_textbox)\n",
    "#print('submit_button_id', submit_button_id)"
   ]
  },
  {
   "cell_type": "code",
   "execution_count": 8,
   "metadata": {
    "scrolled": true
   },
   "outputs": [
    {
     "name": "stdout",
     "output_type": "stream",
     "text": [
      "Enter your username or email: jart1221@gmail.com\n",
      "Enter yout password: ········\n"
     ]
    }
   ],
   "source": [
    "#Get credentials\n",
    "username = input('Enter your username or email: ')\n",
    "password = getpass('Enter yout password: ')"
   ]
  },
  {
   "cell_type": "code",
   "execution_count": 9,
   "metadata": {},
   "outputs": [],
   "source": [
    "#Set credentials\n",
    "username_textbox.send_keys(username)\n",
    "password_textbox.send_keys(password)"
   ]
  },
  {
   "cell_type": "code",
   "execution_count": 10,
   "metadata": {},
   "outputs": [],
   "source": [
    "#Click submit button\n",
    "submit_button_id.click()"
   ]
  },
  {
   "cell_type": "markdown",
   "metadata": {},
   "source": [
    "obtine los links de los videos"
   ]
  },
  {
   "cell_type": "code",
   "execution_count": 11,
   "metadata": {},
   "outputs": [],
   "source": [
    "def get_video_links(web):\n",
    "    #redirecciona a las direccion del curso\n",
    "    driver.get(web)\n",
    "    \n",
    "    #Obtiene los links de los videos\n",
    "    links = driver.find_elements_by_xpath('//div[@class=\"MaterialItem-content\"]/a')\n",
    "\n",
    "    #Extrae href de las etiquetas\n",
    "    course_links = []\n",
    "    for link in links:\n",
    "        course_links.append(link.get_attribute('href'))\n",
    "\n",
    "    #Retorna lista con links\n",
    "    return course_links"
   ]
  },
  {
   "cell_type": "code",
   "execution_count": 10,
   "metadata": {},
   "outputs": [],
   "source": [
    "#redirecciona a los diferentes videos de los cursos\n",
    "\n",
    "#https://platzi.com/clases/git-github/\n",
    "#video_links = get_video_links('https://platzi.com/clases/git-github/')\n",
    "#https://platzi.com/clases/terminal/\n",
    "#video_links = get_video_links('https://platzi.com/clases/terminal/')\n",
    "#https://platzi.com/clases/ingenieria-datos/\n",
    "#video_links = get_video_links('https://platzi.com/clases/ingenieria-datos/')\n",
    "#video_links"
   ]
  },
  {
   "cell_type": "code",
   "execution_count": 11,
   "metadata": {},
   "outputs": [],
   "source": [
    "#muestra video links\n",
    "#for video_link in video_links:\n",
    "#    print(video_link)"
   ]
  },
  {
   "cell_type": "markdown",
   "metadata": {},
   "source": [
    "Descarga un video"
   ]
  },
  {
   "cell_type": "code",
   "execution_count": 12,
   "metadata": {},
   "outputs": [],
   "source": [
    "# Crea carpeta\n",
    "#command = 'mkdir Terminal-videos'\n",
    "#print(command, os.system(command))"
   ]
  },
  {
   "cell_type": "code",
   "execution_count": 12,
   "metadata": {},
   "outputs": [],
   "source": [
    "def get_cookie_str():\n",
    "    cookies = driver.get_cookies()\n",
    "    cookieString  = ''\n",
    "    for cookie in cookies:\n",
    "        cookieString = cookieString + cookie[\"name\"] + \"=\"+cookie[\"value\"]+\"; \"\n",
    "    return cookieString"
   ]
  },
  {
   "cell_type": "code",
   "execution_count": 14,
   "metadata": {},
   "outputs": [],
   "source": [
    "#se obtiene la cookie desde el navegador, y se agrega desde aqui, desde network y home\n",
    "#Solucion encontrada en https://apple.stackexchange.com/questions/349697/how-to-use-youtube-dl-cookies/360619#360619\n",
    "#Segunda solucion\n",
    "#se usa el siguiente commando:\n",
    "#youtube-dl --verbose --add-header \"Cookie:COOKIE_STRING_EXTRACTED_FROM_BROWSER\" --add-header \"username\":\"user name\" --add-header \"password\":\"password\" URL\n",
    "#COOKIE_STRING_EXTRACTED_FROM_BROWSER = getpass('cookie: ')"
   ]
  },
  {
   "cell_type": "code",
   "execution_count": 15,
   "metadata": {},
   "outputs": [],
   "source": [
    "#command = 'youtube-dl --verbose -o \"' + str(1).zfill(2) + '. %(title)s.%(ext)s\" --add-header \"Cookie:' + COOKIE_STRING_EXTRACTED_FROM_BROWSER + '\" --add-header \"username\":\"' + username + '\" --add-header \"password\":\"' + password + '\" ' + video_links[0]\n",
    "#command"
   ]
  },
  {
   "cell_type": "code",
   "execution_count": 16,
   "metadata": {},
   "outputs": [],
   "source": [
    "#os.chdir('git-github-videos')"
   ]
  },
  {
   "cell_type": "code",
   "execution_count": 17,
   "metadata": {},
   "outputs": [],
   "source": [
    "#print(os.system(command))"
   ]
  },
  {
   "cell_type": "code",
   "execution_count": 18,
   "metadata": {
    "scrolled": true
   },
   "outputs": [
    {
     "data": {
      "text/plain": [
       "'\\ni = 0\\nfor video_link in video_links:\\n    print(str(i).zfill(2))\\n    print(video_link)\\n    command = \\'youtube-dl --verbose  -o \"\\' + str(i).zfill(2) + \\'. %(title)s.%(ext)s\" --add-header \"Cookie:\\' + COOKIE_STRING_EXTRACTED_FROM_BROWSER + \\'\" --add-header \"username\":\"\\' + username + \\'\" --add-header \"password\":\"\\' + password + \\'\" \\' + video_link\\n    cod_ret = os.system(command)\\n    print(cod_ret)\\n    if cod_ret == 0:\\n        time.sleep(delay) #Espera de 120 segundos si fue correcto\\n    i += 1\\n'"
      ]
     },
     "execution_count": 18,
     "metadata": {},
     "output_type": "execute_result"
    }
   ],
   "source": [
    "\"\"\"\n",
    "i = 0\n",
    "for video_link in video_links:\n",
    "    print(str(i).zfill(2))\n",
    "    print(video_link)\n",
    "    command = 'youtube-dl --verbose  -o \"' + str(i).zfill(2) + '. %(title)s.%(ext)s\" --add-header \"Cookie:' + COOKIE_STRING_EXTRACTED_FROM_BROWSER + '\" --add-header \"username\":\"' + username + '\" --add-header \"password\":\"' + password + '\" ' + video_link\n",
    "    cod_ret = os.system(command)\n",
    "    print(cod_ret)\n",
    "    if cod_ret == 0:\n",
    "        time.sleep(delay) #Espera de 120 segundos si fue correcto\n",
    "    i += 1\n",
    "\"\"\""
   ]
  },
  {
   "cell_type": "markdown",
   "metadata": {},
   "source": [
    "### Automatización del proceso"
   ]
  },
  {
   "cell_type": "code",
   "execution_count": 13,
   "metadata": {},
   "outputs": [],
   "source": [
    "#funcion de la descarga\n",
    "def descarga_videos(video_links):\n",
    "    i = 0\n",
    "    for video_link in video_links:\n",
    "        COOKIE_STRING_EXTRACTED_FROM_BROWSER = get_cookie_str()\n",
    "        \n",
    "        #Print de log\n",
    "        print(str(i).zfill(2))\n",
    "        print(video_link)\n",
    "        \n",
    "        #Comando a ejecutar\n",
    "        command = 'youtube-dl --verbose  -o \"' + str(i).zfill(2) + '. %(title)s.%(ext)s\" --add-header \"Cookie:' + COOKIE_STRING_EXTRACTED_FROM_BROWSER + '\" --add-header \"username\":\"' + username + '\" --add-header \"password\":\"' + password + '\" ' + video_link\n",
    "        cod_ret = os.system(command)\n",
    "        \n",
    "        #codigo de retorno\n",
    "        print(cod_ret)\n",
    "        \n",
    "        #espera para evitar cualquier cosa\n",
    "        #if cod_ret == 0:\n",
    "        #    time.sleep(60) #Espera de 60 segundos si fue correcto\n",
    "            \n",
    "        i += 1"
   ]
  },
  {
   "cell_type": "code",
   "execution_count": 14,
   "metadata": {},
   "outputs": [
    {
     "data": {
      "text/plain": [
       "['https://platzi.com/clases/webscraping/', 'https://platzi.com/clases/scrapy/']"
      ]
     },
     "execution_count": 14,
     "metadata": {},
     "output_type": "execute_result"
    }
   ],
   "source": [
    "#Cursos a descargar\n",
    "link_cursos = [\n",
    "    #'https://platzi.com/clases/ingenieria-datos/',\n",
    "    #'https://platzi.com/clases/web-scraping/',\n",
    "    'https://platzi.com/clases/webscraping/',\n",
    "    'https://platzi.com/clases/scrapy/'\n",
    "]\n",
    "link_cursos"
   ]
  },
  {
   "cell_type": "code",
   "execution_count": 15,
   "metadata": {},
   "outputs": [],
   "source": [
    "def obtiene_links(link_cursos):\n",
    "    \n",
    "    #Itera todos los cursos\n",
    "    for link_curso in link_cursos:\n",
    "        \n",
    "        #log del curso a descargar\n",
    "        print(link_curso)\n",
    "        \n",
    "        #obtiene nombre de la carpeta\n",
    "        dir_curso = link_curso.split('/')[-2]\n",
    "        print(dir_curso)\n",
    "        \n",
    "        #Cambia la dirección de la carpeta\n",
    "        path = 'C:/Users/Acer/Documents/19.webscraping/Projects/webdriver'\n",
    "        os.chdir(path)\n",
    "        \n",
    "        # Crea la carpeta del curso\n",
    "        command = 'mkdir ' + dir_curso\n",
    "        print(command, os.system(command))\n",
    "        \n",
    "        #Ingresa a la carpeta\n",
    "        os.chdir(dir_curso)\n",
    "        \n",
    "        #Obtiene links de cursos\n",
    "        video_links = get_video_links(link_curso)\n",
    "        \n",
    "        #Descarga de los videos de la lista\n",
    "        descarga_videos(video_links)\n"
   ]
  },
  {
   "cell_type": "code",
   "execution_count": null,
   "metadata": {},
   "outputs": [
    {
     "name": "stdout",
     "output_type": "stream",
     "text": [
      "https://platzi.com/clases/webscraping/\n",
      "webscraping\n",
      "mkdir webscraping 1\n",
      "00\n",
      "https://platzi.com/clases/1751-webscraping/24789-introduccion-y-definiciones/\n",
      "0\n",
      "01\n",
      "https://platzi.com/clases/1751-webscraping/24790-etica-y-legalidad/\n",
      "0\n",
      "02\n",
      "https://platzi.com/clases/1751-webscraping/24791-configuracion-del-entorno-de-trabajo-con-jupyter/\n",
      "1\n",
      "03\n",
      "https://platzi.com/clases/1751-webscraping/24792-descargando-una-pagina-web/\n",
      "0\n",
      "04\n",
      "https://platzi.com/clases/1751-webscraping/24793-parseando-html-con-beautifulsoup/\n",
      "0\n",
      "05\n",
      "https://platzi.com/clases/1751-webscraping/24794-extrayendo-informacion/\n",
      "0\n",
      "06\n",
      "https://platzi.com/clases/1751-webscraping/24795-manejo-de-errores/\n",
      "0\n",
      "07\n",
      "https://platzi.com/clases/1751-webscraping/24796-descargando-contenido/\n",
      "0\n",
      "08\n",
      "https://platzi.com/clases/1751-webscraping/24797-contenido-multimedia/\n",
      "0\n",
      "09\n",
      "https://platzi.com/clases/1751-webscraping/24798-unificando-el-scraper/\n",
      "0\n",
      "10\n",
      "https://platzi.com/clases/1751-webscraping/24799-instalacion-y-configuracion-de-selenium/\n",
      "1\n",
      "11\n",
      "https://platzi.com/clases/1751-webscraping/24800-sitios-dinamicos-y-selenium/\n",
      "0\n",
      "12\n",
      "https://platzi.com/clases/1751-webscraping/24801-seleccion-de-elementos/\n",
      "0\n",
      "13\n",
      "https://platzi.com/clases/1751-webscraping/24802-interactuando-con-los-elementos/\n",
      "0\n",
      "14\n",
      "https://platzi.com/clases/1751-webscraping/24818-scrapeando-escalas-y-tarifas/\n",
      "0\n",
      "15\n",
      "https://platzi.com/clases/1751-webscraping/24803-construyendo-funciones/\n",
      "0\n",
      "16\n",
      "https://platzi.com/clases/1751-webscraping/24804-construyendo-la-funcion-para-unificar-el-scraper/\n",
      "0\n",
      "17\n",
      "https://platzi.com/clases/1751-webscraping/24805-demoras-dinamicas/\n",
      "0\n",
      "18\n",
      "https://platzi.com/clases/1751-webscraping/24806-comentarios-finales/\n",
      "0\n",
      "19\n",
      "https://platzi.com/clases/1751-webscraping/24807-introduccion-a-apis/\n",
      "1\n",
      "20\n",
      "https://platzi.com/clases/1751-webscraping/24808-utilizando-apis-construir-una-url/\n",
      "0\n",
      "21\n",
      "https://platzi.com/clases/1751-webscraping/25307-utilizando-apis-tokens-y-busqueda/\n",
      "0\n",
      "22\n",
      "https://platzi.com/clases/1751-webscraping/24810-obteniendo-la-discografia/\n",
      "0\n",
      "23\n",
      "https://platzi.com/clases/1751-webscraping/24811-obteniendo-los-albums/\n",
      "0\n",
      "24\n",
      "https://platzi.com/clases/1751-webscraping/24812-fin-del-proyecto-bonus/\n",
      "0\n",
      "25\n",
      "https://platzi.com/clases/1751-webscraping/24813-scrapy/\n",
      "0\n",
      "26\n",
      "https://platzi.com/clases/1751-webscraping/24814-ejecutando-el-scraper-con-scrapy/\n"
     ]
    }
   ],
   "source": [
    "#Ejecuta proceso\n",
    "obtiene_links(link_cursos)"
   ]
  }
 ],
 "metadata": {
  "kernelspec": {
   "display_name": "Python 3",
   "language": "python",
   "name": "python3"
  },
  "language_info": {
   "codemirror_mode": {
    "name": "ipython",
    "version": 3
   },
   "file_extension": ".py",
   "mimetype": "text/x-python",
   "name": "python",
   "nbconvert_exporter": "python",
   "pygments_lexer": "ipython3",
   "version": "3.7.6"
  }
 },
 "nbformat": 4,
 "nbformat_minor": 4
}
